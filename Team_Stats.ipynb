{
 "cells": [
  {
   "cell_type": "code",
   "execution_count": 1,
   "metadata": {},
   "outputs": [],
   "source": [
    "import numpy\n",
    "import pandas as pd\n",
    "import requests\n",
    "import nba_api\n",
    "import pathlib as plib"
   ]
  },
  {
   "cell_type": "code",
   "execution_count": 2,
   "metadata": {},
   "outputs": [],
   "source": [
    "from nba_api.stats.static import players"
   ]
  },
  {
   "cell_type": "code",
   "execution_count": 3,
   "metadata": {},
   "outputs": [],
   "source": [
    "# Find players by full name.\n",
    "df = pd.DataFrame(players.find_players_by_full_name('james'))\n",
    "#df.to_csv(index=False) "
   ]
  },
  {
   "cell_type": "code",
   "execution_count": 5,
   "metadata": {},
   "outputs": [],
   "source": [
    "from pathlib import Path  \n",
    "\n",
    "filepath = plib.Path(r'C:\\Users\\Danny\\git_projects\\outputs\\sports_analysis_outputs\\james.csv')  \n",
    "\n",
    "filepath.parent.mkdir(parents=True, exist_ok=True)  \n",
    "\n",
    "df.to_csv(filepath)   "
   ]
  }
 ],
 "metadata": {
  "kernelspec": {
   "display_name": ".venv",
   "language": "python",
   "name": "python3"
  },
  "language_info": {
   "codemirror_mode": {
    "name": "ipython",
    "version": 3
   },
   "file_extension": ".py",
   "mimetype": "text/x-python",
   "name": "python",
   "nbconvert_exporter": "python",
   "pygments_lexer": "ipython3",
   "version": "3.11.1"
  },
  "orig_nbformat": 4,
  "vscode": {
   "interpreter": {
    "hash": "5e2b8f133757e49fd4452f95ed793e8bf0ade033d32ba9f9e84dc512046a8b27"
   }
  }
 },
 "nbformat": 4,
 "nbformat_minor": 2
}
