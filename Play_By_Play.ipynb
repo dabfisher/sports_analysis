{
 "cells": [
  {
   "cell_type": "code",
   "execution_count": 1,
   "metadata": {},
   "outputs": [],
   "source": [
    "import numpy\n",
    "import pandas as pd\n",
    "import requests\n",
    "import nba_api\n",
    "import pathlib as plib\n",
    "import re\n",
    "from nba_api.stats.endpoints import commonteamroster    \n",
    "from nba_api.stats.library.data import teams\n",
    "from nba_api.stats.library.data import team_index_id, team_index_abbreviation, team_index_nickname, team_index_full_name\n",
    "from nba_api.stats.library.data import team_index_city, team_index_state, team_index_year_founded\n",
    "from nba_api.stats.library.data import team_index_championship_year"
   ]
  },
  {
   "cell_type": "code",
   "execution_count": 2,
   "metadata": {},
   "outputs": [],
   "source": [
    "from nba_api.stats.static import teams\n",
    "from nba_api.stats.endpoints import leaguegamefinder, playbyplay\n",
    "import pandas as pd\n",
    "# Expand the data to remove elipses and make more readable\n",
    "pd.set_option('display.max_colwidth',250)\n",
    "pd.set_option('display.max_rows',250)\n",
    "import numpy as np\n"
   ]
  },
  {
   "cell_type": "code",
   "execution_count": 4,
   "metadata": {},
   "outputs": [],
   "source": [
    "##########################\n",
    "######### TEAMS ##########\n",
    "##########################\n",
    "# Get list of all teams\n",
    "nba_teams = teams.get_teams()\n",
    "\n",
    "# User input teams + date of desired game\n",
    "team1_nickname = input(\"Team 1 nickname:\")\n",
    "team2_nickname = input(\"Team 2 nickname:\")\n",
    "game_date = input(\"Date of game:\")\n",
    "\n",
    "# Get team_id for given teams\n",
    "team1 = [team for team in nba_teams if team['nickname'] == team1_nickname][0]\n",
    "team1_id = team1['id']\n",
    "team2 = [team for team in nba_teams if team['nickname'] == team2_nickname][0]\n",
    "team2_abbreviation = team2['abbreviation']"
   ]
  },
  {
   "cell_type": "code",
   "execution_count": 5,
   "metadata": {},
   "outputs": [
    {
     "name": "stdout",
     "output_type": "stream",
     "text": [
      "  SEASON_ID     TEAM_ID TEAM_ABBREVIATION               TEAM_NAME     GAME_ID  \\\n",
      "0     22022  1610612757               POR  Portland Trail Blazers  0022200843   \n",
      "\n",
      "    GAME_DATE      MATCHUP WL  MIN  PTS  ...  FT_PCT  OREB  DREB  REB  AST  \\\n",
      "0  2023-02-10  POR vs. OKC  L  241  129  ...   0.935     9    23   32   29   \n",
      "\n",
      "   STL  BLK  TOV  PF  PLUS_MINUS  \n",
      "0    3    5   18  27        -9.0  \n",
      "\n",
      "[1 rows x 28 columns]\n",
      "0    0022200843\n",
      "Name: GAME_ID, dtype: object\n"
     ]
    }
   ],
   "source": [
    "##########################\n",
    "######### GAMES ##########\n",
    "##########################\n",
    "# Get list of team1's games\n",
    "gamefinder = leaguegamefinder.LeagueGameFinder(team_id_nullable=team1_id)\n",
    "games = gamefinder.get_data_frames()[0]\n",
    "#print(games)\n",
    "\n",
    "# Get game_id where team1 played team2 on the given date\n",
    "targetGame = games[(games.MATCHUP.str.contains(team2_abbreviation)) & (games.GAME_DATE.str.contains(game_date))]\n",
    "print(targetGame)\n",
    "game_id = targetGame.GAME_ID\n",
    "print(game_id)\n",
    "# Split MATCHUP value to determine home_team and visitor_team based on `vs.` or `@`\n",
    "matchup = targetGame.iloc[0]['MATCHUP']\n",
    "split = matchup.split(' ')\n",
    "if split[1] == 'vs.':\n",
    "    home_team = split[0]\n",
    "    visitor_team = split[2]\n",
    "else:\n",
    "    home_team = split[2]\n",
    "    visitor_team = split[0]\n"
   ]
  },
  {
   "cell_type": "code",
   "execution_count": 6,
   "metadata": {},
   "outputs": [
    {
     "ename": "ValueError",
     "evalue": "not enough values to unpack (expected 2, got 1)",
     "output_type": "error",
     "traceback": [
      "\u001b[1;31m---------------------------------------------------------------------------\u001b[0m",
      "\u001b[1;31mValueError\u001b[0m                                Traceback (most recent call last)",
      "Cell \u001b[1;32mIn[6], line 55\u001b[0m\n\u001b[0;32m     53\u001b[0m df[\u001b[39m'\u001b[39m\u001b[39mSCORE1\u001b[39m\u001b[39m'\u001b[39m] \u001b[39m=\u001b[39m df[\u001b[39m'\u001b[39m\u001b[39mSCORE\u001b[39m\u001b[39m'\u001b[39m]\u001b[39m.\u001b[39mstr\u001b[39m.\u001b[39msplit(\u001b[39m'\u001b[39m\u001b[39m-\u001b[39m\u001b[39m'\u001b[39m)\u001b[39m.\u001b[39mstr[\u001b[39m0\u001b[39m]\u001b[39m.\u001b[39mastype(\u001b[39mint\u001b[39m)\u001b[39m.\u001b[39mshift(\u001b[39m1\u001b[39m)\u001b[39m.\u001b[39mfillna(\u001b[39m0\u001b[39m)\n\u001b[0;32m     54\u001b[0m df[\u001b[39m'\u001b[39m\u001b[39mSCORE2\u001b[39m\u001b[39m'\u001b[39m] \u001b[39m=\u001b[39m df[\u001b[39m'\u001b[39m\u001b[39mSCORE\u001b[39m\u001b[39m'\u001b[39m]\u001b[39m.\u001b[39mstr\u001b[39m.\u001b[39msplit(\u001b[39m'\u001b[39m\u001b[39m-\u001b[39m\u001b[39m'\u001b[39m)\u001b[39m.\u001b[39mstr[\u001b[39m1\u001b[39m]\u001b[39m.\u001b[39mastype(\u001b[39mint\u001b[39m)\u001b[39m.\u001b[39mshift(\u001b[39m1\u001b[39m)\u001b[39m.\u001b[39mfillna(\u001b[39m0\u001b[39m)\n\u001b[1;32m---> 55\u001b[0m df[\u001b[39m'\u001b[39m\u001b[39mPOINTSSCORED\u001b[39m\u001b[39m'\u001b[39m] \u001b[39m=\u001b[39m df\u001b[39m.\u001b[39;49mapply(\u001b[39mlambda\u001b[39;49;00m x: get_score_difference(x), axis\u001b[39m=\u001b[39;49m\u001b[39m1\u001b[39;49m)\n\u001b[0;32m     57\u001b[0m \u001b[39m# Drop SCORE1&2 columns\u001b[39;00m\n\u001b[0;32m     58\u001b[0m df \u001b[39m=\u001b[39m df\u001b[39m.\u001b[39mdrop([\u001b[39m'\u001b[39m\u001b[39mSCORE1\u001b[39m\u001b[39m'\u001b[39m, \u001b[39m'\u001b[39m\u001b[39mSCORE2\u001b[39m\u001b[39m'\u001b[39m], axis\u001b[39m=\u001b[39m\u001b[39m1\u001b[39m)\n",
      "File \u001b[1;32mc:\\Users\\Danny\\git_projects\\sports_analysis\\nba_env\\Lib\\site-packages\\pandas\\core\\frame.py:9568\u001b[0m, in \u001b[0;36mDataFrame.apply\u001b[1;34m(self, func, axis, raw, result_type, args, **kwargs)\u001b[0m\n\u001b[0;32m   9557\u001b[0m \u001b[39mfrom\u001b[39;00m \u001b[39mpandas\u001b[39;00m\u001b[39m.\u001b[39;00m\u001b[39mcore\u001b[39;00m\u001b[39m.\u001b[39;00m\u001b[39mapply\u001b[39;00m \u001b[39mimport\u001b[39;00m frame_apply\n\u001b[0;32m   9559\u001b[0m op \u001b[39m=\u001b[39m frame_apply(\n\u001b[0;32m   9560\u001b[0m     \u001b[39mself\u001b[39m,\n\u001b[0;32m   9561\u001b[0m     func\u001b[39m=\u001b[39mfunc,\n\u001b[1;32m   (...)\u001b[0m\n\u001b[0;32m   9566\u001b[0m     kwargs\u001b[39m=\u001b[39mkwargs,\n\u001b[0;32m   9567\u001b[0m )\n\u001b[1;32m-> 9568\u001b[0m \u001b[39mreturn\u001b[39;00m op\u001b[39m.\u001b[39;49mapply()\u001b[39m.\u001b[39m__finalize__(\u001b[39mself\u001b[39m, method\u001b[39m=\u001b[39m\u001b[39m\"\u001b[39m\u001b[39mapply\u001b[39m\u001b[39m\"\u001b[39m)\n",
      "File \u001b[1;32mc:\\Users\\Danny\\git_projects\\sports_analysis\\nba_env\\Lib\\site-packages\\pandas\\core\\apply.py:764\u001b[0m, in \u001b[0;36mFrameApply.apply\u001b[1;34m(self)\u001b[0m\n\u001b[0;32m    761\u001b[0m \u001b[39melif\u001b[39;00m \u001b[39mself\u001b[39m\u001b[39m.\u001b[39mraw:\n\u001b[0;32m    762\u001b[0m     \u001b[39mreturn\u001b[39;00m \u001b[39mself\u001b[39m\u001b[39m.\u001b[39mapply_raw()\n\u001b[1;32m--> 764\u001b[0m \u001b[39mreturn\u001b[39;00m \u001b[39mself\u001b[39;49m\u001b[39m.\u001b[39;49mapply_standard()\n",
      "File \u001b[1;32mc:\\Users\\Danny\\git_projects\\sports_analysis\\nba_env\\Lib\\site-packages\\pandas\\core\\apply.py:891\u001b[0m, in \u001b[0;36mFrameApply.apply_standard\u001b[1;34m(self)\u001b[0m\n\u001b[0;32m    890\u001b[0m \u001b[39mdef\u001b[39;00m \u001b[39mapply_standard\u001b[39m(\u001b[39mself\u001b[39m):\n\u001b[1;32m--> 891\u001b[0m     results, res_index \u001b[39m=\u001b[39m \u001b[39mself\u001b[39;49m\u001b[39m.\u001b[39;49mapply_series_generator()\n\u001b[0;32m    893\u001b[0m     \u001b[39m# wrap results\u001b[39;00m\n\u001b[0;32m    894\u001b[0m     \u001b[39mreturn\u001b[39;00m \u001b[39mself\u001b[39m\u001b[39m.\u001b[39mwrap_results(results, res_index)\n",
      "File \u001b[1;32mc:\\Users\\Danny\\git_projects\\sports_analysis\\nba_env\\Lib\\site-packages\\pandas\\core\\apply.py:907\u001b[0m, in \u001b[0;36mFrameApply.apply_series_generator\u001b[1;34m(self)\u001b[0m\n\u001b[0;32m    904\u001b[0m \u001b[39mwith\u001b[39;00m option_context(\u001b[39m\"\u001b[39m\u001b[39mmode.chained_assignment\u001b[39m\u001b[39m\"\u001b[39m, \u001b[39mNone\u001b[39;00m):\n\u001b[0;32m    905\u001b[0m     \u001b[39mfor\u001b[39;00m i, v \u001b[39min\u001b[39;00m \u001b[39menumerate\u001b[39m(series_gen):\n\u001b[0;32m    906\u001b[0m         \u001b[39m# ignore SettingWithCopy here in case the user mutates\u001b[39;00m\n\u001b[1;32m--> 907\u001b[0m         results[i] \u001b[39m=\u001b[39m \u001b[39mself\u001b[39;49m\u001b[39m.\u001b[39;49mf(v)\n\u001b[0;32m    908\u001b[0m         \u001b[39mif\u001b[39;00m \u001b[39misinstance\u001b[39m(results[i], ABCSeries):\n\u001b[0;32m    909\u001b[0m             \u001b[39m# If we have a view on v, we need to make a copy because\u001b[39;00m\n\u001b[0;32m    910\u001b[0m             \u001b[39m#  series_generator will swap out the underlying data\u001b[39;00m\n\u001b[0;32m    911\u001b[0m             results[i] \u001b[39m=\u001b[39m results[i]\u001b[39m.\u001b[39mcopy(deep\u001b[39m=\u001b[39m\u001b[39mFalse\u001b[39;00m)\n",
      "Cell \u001b[1;32mIn[6], line 55\u001b[0m, in \u001b[0;36m<lambda>\u001b[1;34m(x)\u001b[0m\n\u001b[0;32m     53\u001b[0m df[\u001b[39m'\u001b[39m\u001b[39mSCORE1\u001b[39m\u001b[39m'\u001b[39m] \u001b[39m=\u001b[39m df[\u001b[39m'\u001b[39m\u001b[39mSCORE\u001b[39m\u001b[39m'\u001b[39m]\u001b[39m.\u001b[39mstr\u001b[39m.\u001b[39msplit(\u001b[39m'\u001b[39m\u001b[39m-\u001b[39m\u001b[39m'\u001b[39m)\u001b[39m.\u001b[39mstr[\u001b[39m0\u001b[39m]\u001b[39m.\u001b[39mastype(\u001b[39mint\u001b[39m)\u001b[39m.\u001b[39mshift(\u001b[39m1\u001b[39m)\u001b[39m.\u001b[39mfillna(\u001b[39m0\u001b[39m)\n\u001b[0;32m     54\u001b[0m df[\u001b[39m'\u001b[39m\u001b[39mSCORE2\u001b[39m\u001b[39m'\u001b[39m] \u001b[39m=\u001b[39m df[\u001b[39m'\u001b[39m\u001b[39mSCORE\u001b[39m\u001b[39m'\u001b[39m]\u001b[39m.\u001b[39mstr\u001b[39m.\u001b[39msplit(\u001b[39m'\u001b[39m\u001b[39m-\u001b[39m\u001b[39m'\u001b[39m)\u001b[39m.\u001b[39mstr[\u001b[39m1\u001b[39m]\u001b[39m.\u001b[39mastype(\u001b[39mint\u001b[39m)\u001b[39m.\u001b[39mshift(\u001b[39m1\u001b[39m)\u001b[39m.\u001b[39mfillna(\u001b[39m0\u001b[39m)\n\u001b[1;32m---> 55\u001b[0m df[\u001b[39m'\u001b[39m\u001b[39mPOINTSSCORED\u001b[39m\u001b[39m'\u001b[39m] \u001b[39m=\u001b[39m df\u001b[39m.\u001b[39mapply(\u001b[39mlambda\u001b[39;00m x: get_score_difference(x), axis\u001b[39m=\u001b[39m\u001b[39m1\u001b[39m)\n\u001b[0;32m     57\u001b[0m \u001b[39m# Drop SCORE1&2 columns\u001b[39;00m\n\u001b[0;32m     58\u001b[0m df \u001b[39m=\u001b[39m df\u001b[39m.\u001b[39mdrop([\u001b[39m'\u001b[39m\u001b[39mSCORE1\u001b[39m\u001b[39m'\u001b[39m, \u001b[39m'\u001b[39m\u001b[39mSCORE2\u001b[39m\u001b[39m'\u001b[39m], axis\u001b[39m=\u001b[39m\u001b[39m1\u001b[39m)\n",
      "Cell \u001b[1;32mIn[6], line 41\u001b[0m, in \u001b[0;36mget_score_difference\u001b[1;34m(row)\u001b[0m\n\u001b[0;32m     40\u001b[0m \u001b[39mdef\u001b[39;00m \u001b[39mget_score_difference\u001b[39m(row):\n\u001b[1;32m---> 41\u001b[0m     score1, score2 \u001b[39m=\u001b[39m row[\u001b[39m'\u001b[39m\u001b[39mSCORE\u001b[39m\u001b[39m'\u001b[39m]\u001b[39m.\u001b[39msplit(\u001b[39m'\u001b[39m\u001b[39m|\u001b[39m\u001b[39m'\u001b[39m)\n\u001b[0;32m     42\u001b[0m     \u001b[39mif\u001b[39;00m pd\u001b[39m.\u001b[39mnotnull(row[\u001b[39m'\u001b[39m\u001b[39mSCORE\u001b[39m\u001b[39m'\u001b[39m]):\n\u001b[0;32m     43\u001b[0m         score1 \u001b[39m=\u001b[39m \u001b[39mint\u001b[39m(score1)\n",
      "\u001b[1;31mValueError\u001b[0m: not enough values to unpack (expected 2, got 1)"
     ]
    }
   ],
   "source": [
    "##########################\n",
    "#### PBP DATA CLEANUP ####\n",
    "##########################\n",
    "# Get playbyplay data of given game_id\n",
    "df = playbyplay.PlayByPlay(game_id).get_data_frames()[0]\n",
    "\n",
    "# Filter for EVENTMSGTYPE 1,3,13 only (FG, FT, periodEnd)\n",
    "df = df.loc[df['EVENTMSGTYPE'].isin([1,3,13])]\n",
    "\n",
    "# Remove events where there was no score update\n",
    "df = df.dropna(subset=['SCORE'])\n",
    "\n",
    "# Remove unwanted columns\n",
    "df = df.drop(['GAME_ID','EVENTNUM','EVENTMSGTYPE','EVENTMSGACTIONTYPE','WCTIMESTRING','SCOREMARGIN'], axis=1)\n",
    "\n",
    "\n",
    "\n",
    "# Split the PCTIMESTRING (gametime) to minutes/seconds columns and convert to numeric\n",
    "df[['MINUTES', 'SECONDS']] = df['PCTIMESTRING'].str.split(':', expand=True)\n",
    "df['MINUTES'] = pd.to_numeric(df['MINUTES'], errors='coerce')\n",
    "df['SECONDS'] = pd.to_numeric(df['SECONDS'], errors='coerce')\n",
    "\n",
    "# Drop PCTIMESTRING column (replaced by minutes/seconds)\n",
    "df = df.drop('PCTIMESTRING', axis=1)\n",
    "\n",
    "\n",
    "\n",
    "# Determine scoring team based on populated description\n",
    "df['SCORINGTEAM'] = np.where(df['HOMEDESCRIPTION'].notna(), home_team,\n",
    "                        np.where(df['NEUTRALDESCRIPTION'].notna(), 'Period End',\n",
    "                                 np.where(df['VISITORDESCRIPTION'].notna(), visitor_team, None)))\n",
    "                                 \n",
    "\n",
    "# Drop PCTIMESTRING column (replaced by minutes/seconds)\n",
    "df = df.drop(['HOMEDESCRIPTION','NEUTRALDESCRIPTION','VISITORDESCRIPTION'], axis=1)\n",
    "\n",
    "\n",
    "\n",
    "# Create method to calculate how many points were scored based on current score vs. previous score\n",
    "def get_score_difference(row):\n",
    "    score1, score2 = row['SCORE'].split('-')\n",
    "    if pd.notnull(row['SCORE']):\n",
    "        score1 = int(score1)\n",
    "        score2 = int(score2)\n",
    "    else:\n",
    "        return None\n",
    "    if score1 > row['SCORE1']:\n",
    "        return score1 - row['SCORE1']\n",
    "    else:\n",
    "        return score2 - row['SCORE2']\n",
    "\n",
    "# Save calculated score into new pointsscored column\n",
    "df['SCORE1'] = df['SCORE'].str.split('-').str[0].astype(int).shift(1).fillna(0)\n",
    "df['SCORE2'] = df['SCORE'].str.split('-').str[1].astype(int).shift(1).fillna(0)\n",
    "df['POINTSSCORED'] = df.apply(lambda x: get_score_difference(x), axis=1)\n",
    "\n",
    "\n",
    "# Drop SCORE1&2 columns\n",
    "df = df.drop(['SCORE1', 'SCORE2'], axis=1)\n",
    "\n"
   ]
  },
  {
   "cell_type": "code",
   "execution_count": null,
   "metadata": {},
   "outputs": [
    {
     "name": "stdout",
     "output_type": "stream",
     "text": [
      "EXPORT COMPLETE!\n"
     ]
    }
   ],
   "source": [
    "\n",
    "##########################\n",
    "######### EXPORT #########\n",
    "##########################\n",
    "# Rearrange columns\n",
    "df = df[['PERIOD', 'MINUTES', 'SECONDS', 'SCORINGTEAM', 'POINTSSCORED', 'SCORE']]\n",
    "\n",
    "# Save name + location\n",
    "file_name =  game_date.replace(\"-\", \"\") + \"_\" + team1_nickname.lower() + \"_\" + team2_nickname.lower() + \".csv\"\n",
    "#file_path = plib.Path(r'C:\\Users\\Danny\\git_projects\\outputs\\sports_analysis_outputs\\+ file_name') \n",
    "file_path = \"/Users/Danny/git_projects/outputs/sports_analysis_outputs/\" + file_name\n",
    "# Export the dataframe to a CSV file\n",
    "df.to_csv(file_path, index=False)\n",
    "\n",
    "print(\"EXPORT COMPLETE!\")"
   ]
  }
 ],
 "metadata": {
  "kernelspec": {
   "display_name": "nba_env",
   "language": "python",
   "name": "python3"
  },
  "language_info": {
   "codemirror_mode": {
    "name": "ipython",
    "version": 3
   },
   "file_extension": ".py",
   "mimetype": "text/x-python",
   "name": "python",
   "nbconvert_exporter": "python",
   "pygments_lexer": "ipython3",
   "version": "3.11.1"
  },
  "orig_nbformat": 4,
  "vscode": {
   "interpreter": {
    "hash": "639ef4e6db9c06c41d9ce6a71f7676e1c8eab50ed9d5042b017d79b6fb2038ce"
   }
  }
 },
 "nbformat": 4,
 "nbformat_minor": 2
}
