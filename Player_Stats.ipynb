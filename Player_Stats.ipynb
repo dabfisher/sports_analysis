{
 "cells": [
  {
   "cell_type": "code",
   "execution_count": 1,
   "metadata": {},
   "outputs": [],
   "source": [
    "import numpy\n",
    "import pandas as pd\n",
    "import requests\n",
    "import nba_api\n",
    "import pathlib as plib\n",
    "from nba_api.stats.static import teams\n",
    "from nba_api.stats.endpoints import playergamelog\n"
   ]
  },
  {
   "cell_type": "code",
   "execution_count": 2,
   "metadata": {},
   "outputs": [],
   "source": [
    "player_list = [\n",
    "        '1631101' #Sharpe\n",
    "        ,'1629014' #Simons\n",
    "        ,'203924' #Grant\n",
    "        ,'1629234' #Eubanks\n",
    "        ,'1628404' #Hart\n",
    "        ,'203994' #Nurkic\n",
    "        ,'203081' #Lillard\n",
    "        ,'1630570' #Watford\n",
    "        ,'1631133' #Walker\n",
    "        ,'1629642' #Little\n",
    "        ,'1626159' #Winslow\n",
    "        ,'1630553' #Johnson\n",
    "        ,'1630535' #Brown III\n",
    "        ,'1627780' #Payton II\n",
    "        ]"
   ]
  },
  {
   "cell_type": "code",
   "execution_count": 3,
   "metadata": {},
   "outputs": [],
   "source": [
    "df1 = pd.DataFrame()\n",
    "\n",
    "for playerid in player_list:\n",
    "        player_list = playerid\n",
    "        player_data = playergamelog.PlayerGameLog(player_id=[playerid])\n",
    "        df = player_data.get_data_frames()[0]\n",
    "        df1 = pd.concat([df1,df], ignore_index=True, sort=False)##Combines Sequential\n",
    "#career.append(playergamelog.PlayerGameLog(player_id={203081}))\n",
    "#df = career.get_data_frames()[0]"
   ]
  },
  {
   "cell_type": "code",
   "execution_count": 4,
   "metadata": {},
   "outputs": [],
   "source": [
    "\n",
    "\n",
    "filepath = plib.Path(r'C:\\Users\\Danny\\git_projects\\outputs\\sports_analysis_outputs\\playerstats.csv')  \n",
    "\n",
    "filepath.parent.mkdir(parents=True, exist_ok=True)  \n",
    "\n",
    "df1.to_csv(filepath)     "
   ]
  },
  {
   "cell_type": "code",
   "execution_count": 5,
   "metadata": {},
   "outputs": [
    {
     "name": "stdout",
     "output_type": "stream",
     "text": [
      "dope\n"
     ]
    }
   ],
   "source": [
    "print(\"dope\")"
   ]
  }
 ],
 "metadata": {
  "kernelspec": {
   "display_name": ".venv",
   "language": "python",
   "name": "python3"
  },
  "language_info": {
   "codemirror_mode": {
    "name": "ipython",
    "version": 3
   },
   "file_extension": ".py",
   "mimetype": "text/x-python",
   "name": "python",
   "nbconvert_exporter": "python",
   "pygments_lexer": "ipython3",
   "version": "3.11.1"
  },
  "orig_nbformat": 4,
  "vscode": {
   "interpreter": {
    "hash": "5e2b8f133757e49fd4452f95ed793e8bf0ade033d32ba9f9e84dc512046a8b27"
   }
  }
 },
 "nbformat": 4,
 "nbformat_minor": 2
}
