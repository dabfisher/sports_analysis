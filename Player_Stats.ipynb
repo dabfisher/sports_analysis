{
 "cells": [
  {
   "cell_type": "code",
   "execution_count": 1,
   "metadata": {},
   "outputs": [],
   "source": [
    "import pandas as pd\n",
    "# Expand the data to remove elipses and make more readable\n",
    "pd.set_option('display.max_colwidth',250)\n",
    "pd.set_option('display.max_columns',250)\n",
    "pd.set_option('display.max_rows',1000)\n",
    "import numpy as np\n",
    "import requests\n",
    "import nba_api\n",
    "import pathlib as plib\n",
    "import re\n",
    "import time\n",
    "from nba_api.stats.static import teams,players\n",
    "from nba_api.stats.endpoints import playergamelog#, gamerotation #if getting 433 error, check each endpoint individually\n",
    "from nba_api.stats.endpoints import commonteamroster, commonplayerinfo\n",
    "from nba_api.stats.endpoints import leaguegamefinder, playbyplay\n"
   ]
  },
  {
   "cell_type": "code",
   "execution_count": 2,
   "metadata": {},
   "outputs": [],
   "source": [
    "##########################\n",
    "######### TEAMS ##########\n",
    "##########################\n",
    "# Get list of all teams\n",
    "nba_teams = teams.get_teams()\n",
    "\n",
    "# User input teams\n",
    "team1_abv = input(\"Team 1 abv:\")\n",
    "team2_abv = input(\"Team 2 abv:\")\n",
    "\n",
    "#User input season\n",
    "front_half_season = input(\"Season Yr:\")\n",
    "back_half_season = str(int(front_half_season)+1)\n",
    "season_id = front_half_season + '-' + back_half_season[-2:]\n",
    "\n",
    "# Get team_id for given teams\n",
    "team1 = [team for team in nba_teams if team['abbreviation'] == team1_abv][0]\n",
    "team1_id = team1['id']\n",
    "team2 = [team for team in nba_teams if team['abbreviation'] == team2_abv][0]\n",
    "team2_id = team2['id']\n",
    "\n",
    "team_ids = [team1_id, team2_id]\n",
    "team_ids_dict = pd.DataFrame({'ids' : team_ids})\n",
    "#team_ids_dict.head()\n",
    "\n",
    "df = leaguegamefinder.LeagueGameFinder([]).get_data_frames()[0]\n",
    "#df.head()\n",
    "#print(type(season_id))\n",
    "#print(season_id)"
   ]
  },
  {
   "cell_type": "code",
   "execution_count": 9,
   "metadata": {},
   "outputs": [],
   "source": [
    "# Query for games where the Celtics were playing\n",
    "#teamgamefinder = leaguegamefinder.LeagueGameFinder(team for team in nba_teams if team['id'] == team_ids)\n",
    "# The first DataFrame of those returned is what we want.\n",
    "teamgames = pd.DataFrame([])\n",
    "for i in range(len(team_ids)):\n",
    "    df_no_tgi = leaguegamefinder.LeagueGameFinder(team_id_nullable=team_ids[i],season_nullable=season_id).get_data_frames()[0]    \n",
    "\n",
    "    df_no_tgi['t_game_num'] = df_no_tgi.sort_values(['TEAM_ID','GAME_ID'])['GAME_ID'].index + 1\n",
    "    teamgames = pd.concat([teamgames, df_no_tgi], ignore_index=True)\n",
    "    time.sleep(1)\n",
    "#teamgames.head()"
   ]
  },
  {
   "cell_type": "code",
   "execution_count": 4,
   "metadata": {},
   "outputs": [],
   "source": [
    "##########################\n",
    "######### PLAYERS ########\n",
    "##########################\n",
    "# Get list of current players on teams\n",
    "team_rosters =  pd.DataFrame([])\n",
    "for i in range(len(team_ids)):\n",
    "    rosters = commonteamroster.CommonTeamRoster(team_id=team_ids[i]).get_data_frames()[0]\n",
    "\n",
    "    team_rosters = pd.concat([team_rosters, rosters], ignore_index=True)\n",
    "    time.sleep(1)\n",
    "#team_rosters.head()\n",
    "player_ids_list = team_rosters['PLAYER_ID'].unique()"
   ]
  },
  {
   "cell_type": "code",
   "execution_count": 5,
   "metadata": {},
   "outputs": [],
   "source": [
    "## Player info\n",
    "player_detail = pd.DataFrame(columns=['PERSON_ID','FIRST_NAME','LAST_NAME','DISPLAY_LAST_COMMA_FIRST','TEAM_NAME','TEAM_ID'])\n",
    "\n",
    "for i in range(len(player_ids_list)):\n",
    "    pd_df = commonplayerinfo.CommonPlayerInfo(player_id=player_ids_list[i]).get_data_frames()[0][['PERSON_ID','FIRST_NAME','LAST_NAME','DISPLAY_LAST_COMMA_FIRST','TEAM_NAME','TEAM_ID']]\n",
    "\n",
    "    player_detail = pd.concat([player_detail, pd_df], ignore_index=True)\n",
    "    time.sleep(1)"
   ]
  },
  {
   "cell_type": "code",
   "execution_count": 6,
   "metadata": {},
   "outputs": [],
   "source": [
    "game_data = pd.DataFrame([])\n",
    "\n",
    "for p in range(len(player_ids_list)):\n",
    "    df_no_pgi = playergamelog.PlayerGameLog(player_id=player_ids_list[i]).get_data_frames()[0]\n",
    "    \n",
    "    df_no_pgi['p_game_num'] = df_no_pgi.sort_values(['Player_ID','Game_ID'])['Game_ID'].index + 1\n",
    "    game_data = pd.concat([game_data, df_no_pgi], ignore_index=True)\n",
    "    time.sleep(1)\n",
    "#game_data.head()"
   ]
  },
  {
   "cell_type": "code",
   "execution_count": 7,
   "metadata": {},
   "outputs": [],
   "source": [
    "gd_pd_merge = game_data.merge(player_detail,left_on='Player_ID',right_on='PERSON_ID')\n",
    "team_games_abv = teamgames[['GAME_ID','t_game_num']]\n",
    "gd_pd_merge = gd_pd_merge.merge(team_games_abv,left_on='Game_ID',right_on='GAME_ID').drop_duplicates()\n",
    "gd_pd_merge = gd_pd_merge[['SEASON_ID','TEAM_NAME','TEAM_ID','Player_ID','FIRST_NAME','LAST_NAME','DISPLAY_LAST_COMMA_FIRST','Game_ID','p_game_num','t_game_num','GAME_DATE','MATCHUP','WL','MIN','FGM','FGA','FG_PCT','FG3M','FG3A','FG3_PCT','FTM','FTA','FT_PCT','OREB','DREB','REB','AST','STL','BLK','TOV','PF','PTS','PLUS_MINUS']]\n",
    "#gd_pd_merge.head(40)"
   ]
  },
  {
   "cell_type": "code",
   "execution_count": 8,
   "metadata": {},
   "outputs": [],
   "source": [
    "team_log = teamgames.merge(gd_pd_merge,left_on='TEAM_ID',right_on='TEAM_ID')\n",
    "\n",
    "filepath_tl = plib.Path(r'C:\\Users\\Danny\\git_projects\\outputs\\sports_analysis_outputs\\team_log.csv')  \n",
    "filepath_player_stats = plib.Path(r'C:\\Users\\Danny\\git_projects\\outputs\\sports_analysis_outputs\\player_stats.csv')  \n",
    "\n",
    "filepath_tl.parent.mkdir(parents=True, exist_ok=True)\n",
    "filepath_player_stats.parent.mkdir(parents=True, exist_ok=True)\n",
    "\n",
    "gd_pd_merge.to_csv(filepath_player_stats)\n",
    "team_log.to_csv(filepath_tl) \n",
    "#player_team_log.head(1000).sort_values(['GAME_ID']).sort_values(['PLAYER_ID'])"
   ]
  }
 ],
 "metadata": {
  "kernelspec": {
   "display_name": "nba_env",
   "language": "python",
   "name": "python3"
  },
  "language_info": {
   "codemirror_mode": {
    "name": "ipython",
    "version": 3
   },
   "file_extension": ".py",
   "mimetype": "text/x-python",
   "name": "python",
   "nbconvert_exporter": "python",
   "pygments_lexer": "ipython3",
   "version": "3.11.1"
  },
  "orig_nbformat": 4,
  "vscode": {
   "interpreter": {
    "hash": "639ef4e6db9c06c41d9ce6a71f7676e1c8eab50ed9d5042b017d79b6fb2038ce"
   }
  }
 },
 "nbformat": 4,
 "nbformat_minor": 2
}
